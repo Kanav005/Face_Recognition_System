{
 "cells": [
  {
   "cell_type": "code",
   "execution_count": 1,
   "id": "a78f9bb2",
   "metadata": {},
   "outputs": [],
   "source": [
    "import cv2\n",
    "import numpy as np\n",
    "import face_recognition\n",
    "import os\n",
    "from datetime import datetime\n"
   ]
  },
  {
   "cell_type": "code",
   "execution_count": 3,
   "id": "d56c7af9",
   "metadata": {},
   "outputs": [
    {
     "name": "stdout",
     "output_type": "stream",
     "text": [
      "['1.jpg', '10.jpg', '11.jpg', '12.jpg', '13.jpg', '14.jpg', '15.jpg', '17.jpg', '18.jpg', '2.jpg', '20.jpg', '22.jpg', '23.jpg', '24.jpg', '25.jpg', '26.jpg', '27.jpg', '28.jpg', '29.jpg', '3.jpg', '30.jpg', '4.jpg', '5.jpg', '6.jpg', '7.jpg', '8.jpg', '9.jpg']\n"
     ]
    }
   ],
   "source": [
    "path='img'\n",
    "images = []\n",
    "classnames = []\n",
    "encodedList=[]\n",
    "listPath=os.listdir(path)\n",
    "print(listPath)"
   ]
  },
  {
   "cell_type": "code",
   "execution_count": 4,
   "id": "b7764bc9",
   "metadata": {},
   "outputs": [
    {
     "name": "stdout",
     "output_type": "stream",
     "text": [
      "27\n"
     ]
    }
   ],
   "source": [
    "for i in listPath:\n",
    "    if cv2.imread(path+'/'+i) is not None:\n",
    "        a=cv2.imread(path+'/'+i)\n",
    "    images.append(a)\n",
    "    b=i.split('.')\n",
    "    classnames.append(b[0])\n",
    "    e = cv2.cvtColor(a, cv2.COLOR_BGR2RGB)\n",
    "    encode = face_recognition.face_encodings(e)[0]\n",
    "    \n",
    "    encodedList.append(encode)\n",
    "print(len(encodedList))"
   ]
  },
  {
   "cell_type": "code",
   "execution_count": 1,
   "id": "beba8fec",
   "metadata": {},
   "outputs": [
    {
     "ename": "SyntaxError",
     "evalue": "expected ':' (599165870.py, line 4)",
     "output_type": "error",
     "traceback": [
      "\u001b[1;36m  Input \u001b[1;32mIn [1]\u001b[1;36m\u001b[0m\n\u001b[1;33m    if succ==True\u001b[0m\n\u001b[1;37m                 ^\u001b[0m\n\u001b[1;31mSyntaxError\u001b[0m\u001b[1;31m:\u001b[0m expected ':'\n"
     ]
    }
   ],
   "source": [
    "cam = cv2.VideoCapture('datavideo.mp4')\n",
    "while True:\n",
    "    succ, i = cam.read()\n",
    "    if succ==True:\n",
    "        i = cv2.resize(i,(0,0),None,0.25,0.25)\n",
    "\n",
    "        faces = face_recognition.face_locations(i)\n",
    "        encodedface = face_recognition.face_encodings(i,faces)\n",
    "\n",
    "\n",
    "        for encode,faceLoc in zip(encodedface,faces):\n",
    "            match = face_recognition.compare_faces(encodedList,encode)\n",
    "            faceDistance = face_recognition.face_distance(encodedList,encode)\n",
    "            matchIndex = np.argmin(faceDistance)\n",
    "\n",
    "            if match[matchIndex]:\n",
    "                names = classnames[matchIndex].upper()\n",
    "\n",
    "                y1,x2,y2,x1 = face_location\n",
    "                cv2.rectangle(image,(x1,y1),(x2,y2),(0,255,0),2)\n",
    "                cv2.rectangle(image,(x1,y2-35),(x2,y2),(0,255,0),cv2.FILLED)\n",
    "                cv2.putText(image,names,(x1+6,y2-6),cv2.FONT_HERSHEY_COMPLEX,1,(255,255,255),2)\n",
    "            #     markAttendance(name)\n",
    "\n",
    "        cv2.imshow('image',i)\n",
    "        cv2.waitKey(1)\n",
    "    \n",
    "    "
   ]
  },
  {
   "cell_type": "code",
   "execution_count": null,
   "id": "01b4e628",
   "metadata": {},
   "outputs": [],
   "source": []
  }
 ],
 "metadata": {
  "kernelspec": {
   "display_name": "Python 3 (ipykernel)",
   "language": "python",
   "name": "python3"
  },
  "language_info": {
   "codemirror_mode": {
    "name": "ipython",
    "version": 3
   },
   "file_extension": ".py",
   "mimetype": "text/x-python",
   "name": "python",
   "nbconvert_exporter": "python",
   "pygments_lexer": "ipython3",
   "version": "3.10.1"
  }
 },
 "nbformat": 4,
 "nbformat_minor": 5
}
